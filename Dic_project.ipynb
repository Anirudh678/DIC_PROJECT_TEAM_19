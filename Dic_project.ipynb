{
  "nbformat": 4,
  "nbformat_minor": 0,
  "metadata": {
    "colab": {
      "provenance": []
    },
    "kernelspec": {
      "name": "python3",
      "display_name": "Python 3"
    },
    "language_info": {
      "name": "python"
    }
  },
  "cells": [
    {
      "cell_type": "markdown",
      "source": [
        "# Title: Chemical impact evaluation to identify beneficial and harmful ingredients for skin care Products"
      ],
      "metadata": {
        "id": "ZrGxLYWxxaCU"
      }
    },
    {
      "cell_type": "markdown",
      "source": [
        "Problem Statement:\n",
        "•\tIt is competitive for each manufacturers and customers to understand the links among product ingredients, their chemical composition, and customer options in contemporary competitive cosmetics enterprise.\n",
        "•\tIn order to perceive tendencies in component usage, pricing, and brand positioning, this venture will perform an intensive look at of records related to beauty products.\n",
        "•\tThrough the identification of trends in product gives and customer demand, the results can assist groups optimize their advertising procedures and product compositions.\n",
        "•\tThis contribution is crucial to the cosmetic industry's efforts to make certain protection, force innovation in product improvement, and enhance customer’s happiness.\n"
      ],
      "metadata": {
        "id": "tq43k7DYxqIZ"
      }
    },
    {
      "cell_type": "markdown",
      "source": [
        "Hypothesis questions by Team member-1 : Anirudh\n",
        "1.Question 1: There Exists outside variables, such advertising and marketing campaigns or emblem popularity, that have an effect on a product's rating without regard to charge?\n",
        "\n",
        "Objective: To determine whether variables other than price affect the degree of popularity or status of the product.\n",
        "Significance: It may be easier to differentiate between recognition-pushed and price-pushed rankings.\n",
        "\n",
        "2.Question 3: How a lot of the chemicals within the dataset are classified harmful, and how to use of those chemical compounds evolved through the years?\n",
        "\n",
        "Objective: To trace the historic use of dangerous materials and check if their availability is diminishing.\n",
        "Significance: For industrial stakeholders and regulatory companies, this may provide important information regarding modifications in chemical safety.\n",
        "\n",
        "Hypothesis questions by Team member-2 : Rachana Dharmavaram\n",
        "\n",
        "3.Question 2: Which particular chemical categories are determined in makeup products extra frequently than in other categories of cosmetics?\n",
        "\n",
        "Objective: To research more about the types of chemicals which might be extra generally discovered in makeup rather than skin care or hair care products.\n",
        "Significance: Finding these substances may result in progressed formulating strategies or legal guidelines.\n",
        "\n",
        "4.Question 6: Are products designed for certain skin kind like sensitive skin, much more likely to pass over potentially harmful chemicals?\n",
        "\n",
        "Objective: To discover if sensitive skin products avoid chemical compounds that may reason irritation or aspect effects.\n",
        "Significance: This could offer insights into how the industry adaptive.\n",
        "\n",
        "\n",
        "Hypothesis questions by Team Member-3 : Satya vaishnavi Jami\n",
        "\n",
        "5.Question 4: Is there a relationship among a product's popularity or consumer rating and the amount of compounds with few destructive outcomes?\n",
        "\n",
        "Objective: To inspect if products with much less harmful side effects receive better customer feedback.\n",
        "Significance: This could show how consumers want safer items, which would effect the development of new product designs.\n",
        "\n",
        "6.Question 5: Do clients price products with color-adding chemical substances decrease or better than the ones without them?\n",
        "\n",
        "Objective: To inspect if the color-enhancing products impact consumer satisfaction.\n",
        "Significance: Understanding customer’s behavior towards color components can inform product development strategies.\n",
        "\n",
        "\n",
        "\n",
        "\n"
      ],
      "metadata": {
        "id": "QMq1YtFIyCs1"
      }
    },
    {
      "cell_type": "code",
      "execution_count": 5,
      "metadata": {
        "id": "vruO9yMAP71x"
      },
      "outputs": [],
      "source": [
        "import pandas as pd\n",
        "from sklearn.preprocessing import StandardScaler"
      ]
    },
    {
      "cell_type": "code",
      "source": [
        "data=pd.read_csv('merged_table.csv')"
      ],
      "metadata": {
        "colab": {
          "base_uri": "https://localhost:8080/"
        },
        "id": "20Hc46oW5l4w",
        "outputId": "9f8d3e3b-4dcc-4063-f9c4-1106ed820057"
      },
      "execution_count": 6,
      "outputs": [
        {
          "output_type": "stream",
          "name": "stderr",
          "text": [
            "<ipython-input-6-7f8b903e090f>:1: DtypeWarning: Columns (17,20) have mixed types. Specify dtype option on import or set low_memory=False.\n",
            "  data=pd.read_csv('merged_table.csv')\n"
          ]
        }
      ]
    },
    {
      "cell_type": "code",
      "source": [
        "data.info()"
      ],
      "metadata": {
        "colab": {
          "base_uri": "https://localhost:8080/"
        },
        "id": "u8bsL_mN58AH",
        "outputId": "17c0fc86-e4cf-4c8d-a3d2-cef34d72c65f"
      },
      "execution_count": 7,
      "outputs": [
        {
          "output_type": "stream",
          "name": "stdout",
          "text": [
            "<class 'pandas.core.frame.DataFrame'>\n",
            "RangeIndex: 53763 entries, 0 to 53762\n",
            "Data columns (total 33 columns):\n",
            " #   Column                  Non-Null Count  Dtype  \n",
            "---  ------                  --------------  -----  \n",
            " 0   CDPHId                  53763 non-null  int64  \n",
            " 1   ProductName             53763 non-null  object \n",
            " 2   CSFId                   47183 non-null  float64\n",
            " 3   CSF                     47183 non-null  object \n",
            " 4   CompanyId               53763 non-null  int64  \n",
            " 5   CompanyName             53763 non-null  object \n",
            " 6   BrandName               53763 non-null  object \n",
            " 7   PrimaryCategoryId       53763 non-null  int64  \n",
            " 8   PrimaryCategory         53763 non-null  object \n",
            " 9   SubCategoryId           53763 non-null  int64  \n",
            " 10  SubCategory             53763 non-null  object \n",
            " 11  CasId                   53763 non-null  int64  \n",
            " 12  CasNumber               53725 non-null  object \n",
            " 13  ChemicalId              53763 non-null  int64  \n",
            " 14  ChemicalName            53763 non-null  object \n",
            " 15  InitialDateReported     53763 non-null  object \n",
            " 16  MostRecentDateReported  53763 non-null  object \n",
            " 17  DiscontinuedDate        7302 non-null   object \n",
            " 18  ChemicalCreatedAt       53763 non-null  object \n",
            " 19  ChemicalUpdatedAt       53763 non-null  object \n",
            " 20  ChemicalDateRemoved     463 non-null    object \n",
            " 21  ChemicalCount           53763 non-null  int64  \n",
            " 22  Label                   53763 non-null  object \n",
            " 23  Brand                   53763 non-null  object \n",
            " 24  Name                    53763 non-null  object \n",
            " 25  Price                   53763 non-null  int64  \n",
            " 26  Rank                    53763 non-null  float64\n",
            " 27  Ingredients             53763 non-null  object \n",
            " 28  Combination             53763 non-null  int64  \n",
            " 29  Dry                     53763 non-null  int64  \n",
            " 30  Normal                  53763 non-null  int64  \n",
            " 31  Oily                    53763 non-null  int64  \n",
            " 32  Sensitive               53763 non-null  int64  \n",
            "dtypes: float64(2), int64(13), object(18)\n",
            "memory usage: 13.5+ MB\n"
          ]
        }
      ]
    },
    {
      "cell_type": "markdown",
      "source": [
        "Handling Missing Values"
      ],
      "metadata": {
        "id": "hIy-dHUSJ2ou"
      }
    },
    {
      "cell_type": "markdown",
      "source": [],
      "metadata": {
        "id": "yQWv4y_gd19f"
      }
    },
    {
      "cell_type": "markdown",
      "source": [
        "Rows with missing values in the CSFId or CSF columns had been removed.\n",
        "This guarantees that null values for categorical variables or key identifiers are , considering that their absence can lead to inconsistent effects in the take a look at.\n"
      ],
      "metadata": {
        "id": "8CnSDPBR0q0r"
      }
    },
    {
      "cell_type": "code",
      "source": [
        "data= data.dropna(subset=['CSFId', 'CSF'])"
      ],
      "metadata": {
        "id": "EaWHeB8f5-be"
      },
      "execution_count": 8,
      "outputs": []
    },
    {
      "cell_type": "markdown",
      "source": [
        "In order to put up simplest the columns with missing values, this step counts the entire variety of lacking values for each column. It assists in figuring out the columns that want greater care all through the cleaning process."
      ],
      "metadata": {
        "id": "Ds5xNbHm01ai"
      }
    },
    {
      "cell_type": "code",
      "source": [
        "missing_values = data.isnull().sum()\n",
        "print(missing_values[missing_values>0])"
      ],
      "metadata": {
        "colab": {
          "base_uri": "https://localhost:8080/"
        },
        "id": "bzYhR9JZ7z2H",
        "outputId": "bd31457a-8543-49b5-974c-b3eb0cf04e23"
      },
      "execution_count": 9,
      "outputs": [
        {
          "output_type": "stream",
          "name": "stdout",
          "text": [
            "CasNumber                 32\n",
            "DiscontinuedDate       41315\n",
            "ChemicalDateRemoved    46833\n",
            "dtype: int64\n"
          ]
        }
      ]
    },
    {
      "cell_type": "markdown",
      "source": [
        "Incomplete values in the Chemical Date and Discontinued Date A default price of zero turned into used to fill the removed columns. In addition to making sure that no data is overlooked, this possibly implies that if these dates are missing, the product or chemical hasn't been eliminated."
      ],
      "metadata": {
        "id": "Am51ydB608uW"
      }
    },
    {
      "cell_type": "code",
      "source": [
        "data['DiscontinuedDate'].fillna(0,inplace=True)\n",
        "data['ChemicalDateRemoved'].fillna(0,inplace=True)"
      ],
      "metadata": {
        "colab": {
          "base_uri": "https://localhost:8080/"
        },
        "id": "F_2WN4gB7oNc",
        "outputId": "ab960300-6bdc-4dc9-d9f5-d6f0792ee0ca"
      },
      "execution_count": 10,
      "outputs": [
        {
          "output_type": "stream",
          "name": "stderr",
          "text": [
            "<ipython-input-10-ea265f619f05>:1: FutureWarning: A value is trying to be set on a copy of a DataFrame or Series through chained assignment using an inplace method.\n",
            "The behavior will change in pandas 3.0. This inplace method will never work because the intermediate object on which we are setting values always behaves as a copy.\n",
            "\n",
            "For example, when doing 'df[col].method(value, inplace=True)', try using 'df.method({col: value}, inplace=True)' or df[col] = df[col].method(value) instead, to perform the operation inplace on the original object.\n",
            "\n",
            "\n",
            "  data['DiscontinuedDate'].fillna(0,inplace=True)\n",
            "<ipython-input-10-ea265f619f05>:2: FutureWarning: A value is trying to be set on a copy of a DataFrame or Series through chained assignment using an inplace method.\n",
            "The behavior will change in pandas 3.0. This inplace method will never work because the intermediate object on which we are setting values always behaves as a copy.\n",
            "\n",
            "For example, when doing 'df[col].method(value, inplace=True)', try using 'df.method({col: value}, inplace=True)' or df[col] = df[col].method(value) instead, to perform the operation inplace on the original object.\n",
            "\n",
            "\n",
            "  data['ChemicalDateRemoved'].fillna(0,inplace=True)\n"
          ]
        }
      ]
    },
    {
      "cell_type": "markdown",
      "source": [
        "Converting date columns to datetime"
      ],
      "metadata": {
        "id": "tLCKuPmXJ7Wx"
      }
    },
    {
      "cell_type": "markdown",
      "source": [
        "Here by using pd.to_datetime converting all the date columns to perfect temporal data."
      ],
      "metadata": {
        "id": "NP34oPOq1agW"
      }
    },
    {
      "cell_type": "code",
      "source": [
        "date_col = ['InitialDateReported','DiscontinuedDate', 'ChemicalDateRemoved', 'MostRecentDateReported', 'ChemicalCreatedAt', 'ChemicalUpdatedAt']\n",
        "data[date_col] = data[date_col].apply(pd.to_datetime, errors='coerce')"
      ],
      "metadata": {
        "id": "5PUiGgd8-S_L"
      },
      "execution_count": 11,
      "outputs": []
    },
    {
      "cell_type": "markdown",
      "source": [
        "Handling categorical data"
      ],
      "metadata": {
        "id": "VaBvxFnpJ6nr"
      }
    },
    {
      "cell_type": "markdown",
      "source": [
        "In handling categorical data, we took category columns and found many distinct values that is why we used high cardinality and for repeated values we used low cardinality. And then removed all the dummies in the data using low cardinality"
      ],
      "metadata": {
        "id": "vQ5Dt5zV1kt4"
      }
    },
    {
      "cell_type": "code",
      "source": [
        "cat_cols= ['ProductName', 'CSF', 'CompanyName', 'BrandName',\n",
        "    'PrimaryCategory', 'SubCategory', 'CasNumber',\n",
        "    'ChemicalName', 'Label', 'Brand', 'Name', 'Ingredients']"
      ],
      "metadata": {
        "id": "EXvGEPtnJtXA"
      },
      "execution_count": 12,
      "outputs": []
    },
    {
      "cell_type": "code",
      "source": [
        "high_cardinality_cols = []\n",
        "for col in cat_cols:\n",
        "    if data[col].nunique() > 100:\n",
        "        high_cardinality_cols.append(col)"
      ],
      "metadata": {
        "id": "Crdi741qKdXi"
      },
      "execution_count": 13,
      "outputs": []
    },
    {
      "cell_type": "code",
      "source": [
        "low_cardinality_cols = []\n",
        "for col in cat_cols:\n",
        "    if data[col].nunique() <= 100:\n",
        "        low_cardinality_cols.append(col)"
      ],
      "metadata": {
        "id": "si56LOx_Lhf_"
      },
      "execution_count": 14,
      "outputs": []
    },
    {
      "cell_type": "code",
      "source": [
        "data= pd.get_dummies(data, columns=low_cardinality_cols)"
      ],
      "metadata": {
        "id": "1c7YfuZmLkW4"
      },
      "execution_count": 15,
      "outputs": []
    },
    {
      "cell_type": "code",
      "source": [
        "from sklearn.preprocessing import LabelEncoder"
      ],
      "metadata": {
        "id": "c0iSvy7oMe_y"
      },
      "execution_count": 16,
      "outputs": []
    },
    {
      "cell_type": "code",
      "source": [
        "encoder=LabelEncoder()\n",
        "for col in high_cardinality_cols:\n",
        "    data[col]=encoder.fit_transform(data[col])"
      ],
      "metadata": {
        "id": "6E3YXBgxL7H8"
      },
      "execution_count": 17,
      "outputs": []
    },
    {
      "cell_type": "markdown",
      "source": [
        "Feature Scaling"
      ],
      "metadata": {
        "id": "jOhWl6i0Mppe"
      }
    },
    {
      "cell_type": "markdown",
      "source": [
        "To normalize the range of independent variables and the features of data we used StandardScaler() method."
      ],
      "metadata": {
        "id": "0aaozdp22ZEd"
      }
    },
    {
      "cell_type": "code",
      "source": [
        "number_cols = ['CDPHId', 'CSFId', 'CompanyId', 'PrimaryCategoryId', 'SubCategoryId', 'CasId',\n",
        "               'ChemicalId', 'ChemicalCount', 'Price',\n",
        "               'Rank', 'Combination', 'Dry', 'Normal', 'Oily', 'Sensitive']"
      ],
      "metadata": {
        "id": "SP7_jad_MYFM"
      },
      "execution_count": 18,
      "outputs": []
    },
    {
      "cell_type": "code",
      "source": [
        "scaler=StandardScaler()\n",
        "data[number_cols]=scaler.fit_transform(data[number_cols])"
      ],
      "metadata": {
        "id": "o-QVhWv0M8v5"
      },
      "execution_count": 19,
      "outputs": []
    },
    {
      "cell_type": "markdown",
      "source": [
        "Removing duplicates in the data"
      ],
      "metadata": {
        "id": "cMg05UZiNBJK"
      }
    },
    {
      "cell_type": "markdown",
      "source": [
        "This removes duplicate entries so that each data point is unique and to avoid skewed analysis."
      ],
      "metadata": {
        "id": "RQd0WahM1Hy4"
      }
    },
    {
      "cell_type": "code",
      "source": [
        "data=data.drop_duplicates()"
      ],
      "metadata": {
        "id": "NoI9gJhMNAMP"
      },
      "execution_count": 20,
      "outputs": []
    },
    {
      "cell_type": "markdown",
      "source": [
        "Encoding dates"
      ],
      "metadata": {
        "id": "n9eMblvgNLJS"
      }
    },
    {
      "cell_type": "code",
      "source": [
        "date_columns=['InitialDateReported', 'MostRecentDateReported',\n",
        "                'DiscontinuedDate', 'ChemicalCreatedAt',\n",
        "                'ChemicalUpdatedAt']"
      ],
      "metadata": {
        "id": "BPTNMuS-NGV5"
      },
      "execution_count": 21,
      "outputs": []
    },
    {
      "cell_type": "code",
      "source": [
        "for col in date_columns:\n",
        "    data[col + '_year'] = data[col].dt.year\n",
        "    data[col + '_month'] = data[col].dt.month\n",
        "    data[col + '_day'] = data[col].dt.day"
      ],
      "metadata": {
        "id": "O3GQmOfsNtBg"
      },
      "execution_count": 22,
      "outputs": []
    },
    {
      "cell_type": "code",
      "source": [
        "data.drop(columns=date_columns, inplace=True)"
      ],
      "metadata": {
        "id": "dNNFFLvyNwJ7"
      },
      "execution_count": 23,
      "outputs": []
    },
    {
      "cell_type": "markdown",
      "source": [
        "Handling outliers"
      ],
      "metadata": {
        "id": "kz8RKsrNOJZz"
      }
    },
    {
      "cell_type": "markdown",
      "source": [
        "We did this to handle the aqnomalies and to deal with the outliers."
      ],
      "metadata": {
        "id": "U3D4ixd72wwg"
      }
    },
    {
      "cell_type": "code",
      "source": [
        "price_quantiles = data['Price'].quantile([0.01, 0.99])\n",
        "data = data[(data['Price'] >= price_quantiles[0.01]) & (data['Price'] <= price_quantiles[0.99])]"
      ],
      "metadata": {
        "id": "8WD5SbjlOG2r"
      },
      "execution_count": 24,
      "outputs": []
    },
    {
      "cell_type": "code",
      "source": [
        "for col in ['Rank', 'Combination', 'Dry', 'Normal', 'Oily', 'Sensitive']:\n",
        "    data[col] = data[col].astype(int)\n",
        "    upper= data[col].quantile(0.99)\n",
        "    data=data[data[col]<=upper]\n",
        "    lower=data[col].quantile(0.01)\n",
        "    data=data[data[col]>=lower]"
      ],
      "metadata": {
        "id": "dEyMx5WFOVC8",
        "colab": {
          "base_uri": "https://localhost:8080/"
        },
        "outputId": "36279fca-65fd-40a4-f679-2f465dcbf003"
      },
      "execution_count": 25,
      "outputs": [
        {
          "output_type": "stream",
          "name": "stderr",
          "text": [
            "<ipython-input-25-5fec5752f02f>:2: SettingWithCopyWarning: \n",
            "A value is trying to be set on a copy of a slice from a DataFrame.\n",
            "Try using .loc[row_indexer,col_indexer] = value instead\n",
            "\n",
            "See the caveats in the documentation: https://pandas.pydata.org/pandas-docs/stable/user_guide/indexing.html#returning-a-view-versus-a-copy\n",
            "  data[col] = data[col].astype(int)\n"
          ]
        }
      ]
    },
    {
      "cell_type": "markdown",
      "source": [
        "Z-Score"
      ],
      "metadata": {
        "id": "_1FVySgcPWUT"
      }
    },
    {
      "cell_type": "markdown",
      "source": [
        "Z-score is the mathematical function for evaluation and verification.This helps us to find how far a piece of data from the average of group."
      ],
      "metadata": {
        "id": "krJ2Rj-i3IdF"
      }
    },
    {
      "cell_type": "code",
      "source": [
        "z_scores = (data['Price'] - data['Price'].mean()) / data['Price'].std()\n",
        "data = data[(z_scores.abs() < 3)]"
      ],
      "metadata": {
        "id": "1r_OdcsjPLxn"
      },
      "execution_count": 26,
      "outputs": []
    },
    {
      "cell_type": "code",
      "source": [
        "print(z_scores)"
      ],
      "metadata": {
        "colab": {
          "base_uri": "https://localhost:8080/"
        },
        "id": "UqCtBTTOPd1E",
        "outputId": "b80be5d4-abf8-4d91-a6c2-544a3cea6be0"
      },
      "execution_count": 27,
      "outputs": [
        {
          "output_type": "stream",
          "name": "stdout",
          "text": [
            "0       -0.730867\n",
            "1       -0.114872\n",
            "2       -0.357537\n",
            "3       -0.525535\n",
            "238     -0.656201\n",
            "           ...   \n",
            "53598   -0.730867\n",
            "53599   -0.637535\n",
            "53600   -0.730867\n",
            "53601   -0.637535\n",
            "53602   -0.730867\n",
            "Name: Price, Length: 46592, dtype: float64\n"
          ]
        }
      ]
    },
    {
      "cell_type": "code",
      "source": [
        "print(data.describe())"
      ],
      "metadata": {
        "colab": {
          "base_uri": "https://localhost:8080/"
        },
        "id": "v6hs84KFPf0g",
        "outputId": "ad889e31-ea77-4ea0-a1c2-65c5d1eecd17"
      },
      "execution_count": 28,
      "outputs": [
        {
          "output_type": "stream",
          "name": "stdout",
          "text": [
            "             CDPHId   ProductName         CSFId           CSF     CompanyId  \\\n",
            "count  44519.000000  44519.000000  44519.000000  44519.000000  44519.000000   \n",
            "mean      -0.002522    250.313686      0.001532   1564.302478      0.001577   \n",
            "min       -3.057504      0.000000     -2.970937      0.000000     -1.892778   \n",
            "25%       -0.031196    197.000000     -0.138737    812.000000     -1.030252   \n",
            "50%        0.228121    302.000000      0.114082   1535.000000      0.692185   \n",
            "75%        0.404921    311.000000      0.287787   2252.000000      0.692185   \n",
            "max        2.529831    392.000000      2.685346   3081.000000      1.267202   \n",
            "std        1.018283     93.951001      1.017473    838.511810      1.001821   \n",
            "\n",
            "       PrimaryCategoryId  SubCategoryId         CasId    ChemicalId  \\\n",
            "count       44519.000000   44519.000000  44519.000000  44519.000000   \n",
            "mean           -0.001771      -0.003258     -0.013202     -0.000996   \n",
            "min            -0.995989      -1.109041     -5.928370     -2.881365   \n",
            "25%            -0.507629      -0.511736     -0.116705     -0.168526   \n",
            "50%            -0.507629      -0.511736     -0.116705      0.124070   \n",
            "75%            -0.507629      -0.383742     -0.116705      0.377788   \n",
            "max             2.015567       4.266704      4.499653      2.674413   \n",
            "std             0.998463       0.997922      0.995074      1.019475   \n",
            "\n",
            "                 ChemicalDateRemoved  ...  MostRecentDateReported_day  \\\n",
            "count                          44519  ...                44519.000000   \n",
            "mean   1970-04-25 06:19:19.109593656  ...                   14.072890   \n",
            "min              1970-01-01 00:00:00  ...                    1.000000   \n",
            "25%              1970-01-01 00:00:00  ...                    1.000000   \n",
            "50%              1970-01-01 00:00:00  ...                   13.000000   \n",
            "75%              1970-01-01 00:00:00  ...                   25.000000   \n",
            "max              2016-08-29 00:00:00  ...                   31.000000   \n",
            "std                              NaN  ...                   10.852228   \n",
            "\n",
            "       DiscontinuedDate_year  DiscontinuedDate_month  DiscontinuedDate_day  \\\n",
            "count            5363.000000             5363.000000           5363.000000   \n",
            "mean             2014.027224                3.156256              6.153832   \n",
            "min              2008.000000                1.000000              1.000000   \n",
            "25%              2014.000000                1.000000              1.000000   \n",
            "50%              2014.000000                1.000000              1.000000   \n",
            "75%              2014.000000                7.000000              1.000000   \n",
            "max              2018.000000               12.000000             31.000000   \n",
            "std                 1.637063                3.476544             10.951966   \n",
            "\n",
            "       ChemicalCreatedAt_year  ChemicalCreatedAt_month  ChemicalCreatedAt_day  \\\n",
            "count            44519.000000             44519.000000           44519.000000   \n",
            "mean              2014.193288                 5.753835              20.153081   \n",
            "min               2009.000000                 1.000000               1.000000   \n",
            "25%               2014.000000                 5.000000              19.000000   \n",
            "50%               2015.000000                 5.000000              20.000000   \n",
            "75%               2015.000000                 8.000000              25.000000   \n",
            "max               2019.000000                12.000000              31.000000   \n",
            "std                  2.330058                 3.076650               7.593042   \n",
            "\n",
            "       ChemicalUpdatedAt_year  ChemicalUpdatedAt_month  ChemicalUpdatedAt_day  \n",
            "count            44519.000000             44519.000000           44519.000000  \n",
            "mean              2014.862935                 6.026011              17.711606  \n",
            "min               2010.000000                 1.000000               1.000000  \n",
            "25%               2014.000000                 5.000000              11.000000  \n",
            "50%               2015.000000                 5.000000              19.000000  \n",
            "75%               2015.000000                 8.000000              23.000000  \n",
            "max               2019.000000                12.000000              31.000000  \n",
            "std                  1.483391                 3.172844               7.602613  \n",
            "\n",
            "[8 rows x 35 columns]\n"
          ]
        }
      ]
    },
    {
      "cell_type": "code",
      "source": [],
      "metadata": {
        "id": "tgjb7dmbPyx8"
      },
      "execution_count": 28,
      "outputs": []
    }
  ]
}